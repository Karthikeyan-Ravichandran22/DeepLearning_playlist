{
  "nbformat": 4,
  "nbformat_minor": 0,
  "metadata": {
    "colab": {
      "name": "Keras(2).ipynb",
      "provenance": [],
      "collapsed_sections": []
    },
    "kernelspec": {
      "name": "python3",
      "display_name": "Python 3"
    }
  },
  "cells": [
    {
      "cell_type": "code",
      "metadata": {
        "id": "eaJA9CtkH_sh"
      },
      "source": [
        "import numpy as np\r\n",
        "from random import randint\r\n",
        "from sklearn.utils import shuffle\r\n",
        "from sklearn.preprocessing import MinMaxScaler\r\n",
        "import matplotlib.pyplot as plt\r\n"
      ],
      "execution_count": 76,
      "outputs": []
    },
    {
      "cell_type": "code",
      "metadata": {
        "id": "Jwg8YPgGJWjV"
      },
      "source": [
        "train_labels = []\r\n",
        "train_samples = []"
      ],
      "execution_count": 77,
      "outputs": []
    },
    {
      "cell_type": "markdown",
      "metadata": {
        "id": "29A2tZnlNB0l"
      },
      "source": [
        "Data Creation\r\n",
        "For this simple task, we'll be creating our own example data set.\r\n",
        "\r\n",
        "As motivation for this data, let's suppose that an experimental drug was tested on individuals ranging from age 13 to 100 in a clinical trial. The trial had 2100 participants. Half of the participants were under 65 years old, and the other half was 65 years of age or older.\r\n",
        "\r\n",
        "The trial showed that around 95% of patients 65 or older experienced side effects from the drug, and around 95% of patients under 65 experienced no side effects, generally showing that elderly individuals were more likely to experience side effects.\r\n",
        "\r\n",
        "Ultimately, we want to build a model to tell us whether or not a patient will experience side effects solely based on the patient's age. The judgement of the model will be based on the training data."
      ]
    },
    {
      "cell_type": "code",
      "metadata": {
        "id": "j3EvW27PNC9U"
      },
      "source": [
        "for i in range(50):\r\n",
        "  # The ~5% of younger individuals who did experience side effects\r\n",
        "    random_younger=randint(13,64)\r\n",
        "    train_samples.append(random_younger)\r\n",
        "    train_labels.append(1)\r\n",
        "\r\n",
        "    random_older=randint(65,100)\r\n",
        "    train_samples.append(random_older)\r\n",
        "    train_labels.append(0)\r\n",
        "\r\n",
        "for i in range(1000):\r\n",
        "    random_younger=randint(13,64)\r\n",
        "    train_samples.append(random_younger)\r\n",
        "    train_labels.append(1)\r\n",
        "\r\n",
        "    random_older=randint(65,100)\r\n",
        "    train_samples.append(random_older)\r\n",
        "    train_labels.append(0)\r\n"
      ],
      "execution_count": 78,
      "outputs": []
    },
    {
      "cell_type": "code",
      "metadata": {
        "colab": {
          "base_uri": "https://localhost:8080/"
        },
        "id": "tnPSx0_6O-PF",
        "outputId": "33a098e0-5436-4a78-ffc1-3e658ef5f29c"
      },
      "source": [
        "print(len(train_samples))\r\n",
        "print(len(train_labels))"
      ],
      "execution_count": 79,
      "outputs": [
        {
          "output_type": "stream",
          "text": [
            "2100\n",
            "2100\n"
          ],
          "name": "stdout"
        }
      ]
    },
    {
      "cell_type": "markdown",
      "metadata": {
        "id": "1NwXaKkwP2qG"
      },
      "source": [
        "Data Processing"
      ]
    },
    {
      "cell_type": "code",
      "metadata": {
        "id": "3ibP0CDEP8ri"
      },
      "source": [
        "train_labels=np.array(train_labels)\r\n",
        "train_samples=np.array(train_samples)\r\n",
        "train_labels,train_samples=shuffle(train_labels,train_samples)"
      ],
      "execution_count": 80,
      "outputs": []
    },
    {
      "cell_type": "code",
      "metadata": {
        "colab": {
          "base_uri": "https://localhost:8080/"
        },
        "id": "cJjtxQD4QJi-",
        "outputId": "81e0eede-755e-4d7b-d49f-c01de31a8028"
      },
      "source": [
        "print(train_labels)\r\n",
        "print(train_samples)"
      ],
      "execution_count": 81,
      "outputs": [
        {
          "output_type": "stream",
          "text": [
            "[1 1 0 ... 0 1 1]\n",
            "[18 20 67 ... 80 29 41]\n"
          ],
          "name": "stdout"
        }
      ]
    },
    {
      "cell_type": "code",
      "metadata": {
        "id": "_2bTFJlGQlK4"
      },
      "source": [
        "scaler = MinMaxScaler(feature_range=(0,1))\r\n",
        "scaled_train_samples = scaler.fit_transform(train_samples.reshape(-1,1))"
      ],
      "execution_count": 82,
      "outputs": []
    },
    {
      "cell_type": "code",
      "metadata": {
        "colab": {
          "base_uri": "https://localhost:8080/",
          "height": 317
        },
        "id": "mNzls28wRQZR",
        "outputId": "6bdbc597-d708-4891-ec3a-23fcad850b08"
      },
      "source": [
        "plt.hist(scaled_train_samples)"
      ],
      "execution_count": 83,
      "outputs": [
        {
          "output_type": "execute_result",
          "data": {
            "text/plain": [
              "(array([173., 206., 183., 157., 156., 203., 222., 255., 291., 254.]),\n",
              " array([0. , 0.1, 0.2, 0.3, 0.4, 0.5, 0.6, 0.7, 0.8, 0.9, 1. ]),\n",
              " <a list of 10 Patch objects>)"
            ]
          },
          "metadata": {
            "tags": []
          },
          "execution_count": 83
        },
        {
          "output_type": "display_data",
          "data": {
            "image/png": "[encoded data removed]",
            "text/plain": [
              "<Figure size 432x288 with 1 Axes>"
            ]
          },
          "metadata": {
            "tags": [],
            "needs_background": "light"
          }
        }
      ]
    },
    {
      "cell_type": "code",
      "metadata": {
        "id": "fYqBfS0Tav3f"
      },
      "source": [
        "import tensorflow as tf\r\n",
        "from tensorflow import keras\r\n",
        "from tensorflow.keras.models import Sequential\r\n",
        "from tensorflow.keras.layers import Activation,Dense\r\n",
        "from tensorflow.keras.optimizers import Adam\r\n",
        "from tensorflow.keras.metrics import categorical_crossentropy\r\n"
      ],
      "execution_count": 84,
      "outputs": []
    },
    {
      "cell_type": "code",
      "metadata": {
        "id": "R75dCneca-pD"
      },
      "source": [
        "model=Sequential([\r\n",
        "    Dense(units=16, input_shape=(1,),activation='relu'),\r\n",
        "    Dense(units=32,activation='relu'),\r\n",
        "    Dense(units=2,activation='softmax')\r\n",
        "])"
      ],
      "execution_count": 85,
      "outputs": []
    },
    {
      "cell_type": "code",
      "metadata": {
        "colab": {
          "base_uri": "https://localhost:8080/"
        },
        "id": "JfB80Hgva-tT",
        "outputId": "e1eb3850-5059-43a0-fbc0-3dcbaee53013"
      },
      "source": [
        "model.summary()"
      ],
      "execution_count": 86,
      "outputs": [
        {
          "output_type": "stream",
          "text": [
            "Model: \"sequential_3\"\n",
            "_________________________________________________________________\n",
            "Layer (type)                 Output Shape              Param #   \n",
            "=================================================================\n",
            "dense_9 (Dense)              (None, 16)                32        \n",
            "_________________________________________________________________\n",
            "dense_10 (Dense)             (None, 32)                544       \n",
            "_________________________________________________________________\n",
            "dense_11 (Dense)             (None, 2)                 66        \n",
            "=================================================================\n",
            "Total params: 642\n",
            "Trainable params: 642\n",
            "Non-trainable params: 0\n",
            "_________________________________________________________________\n"
          ],
          "name": "stdout"
        }
      ]
    },
    {
      "cell_type": "code",
      "metadata": {
        "id": "m9AkeIGVa-zG"
      },
      "source": [
        "model.compile(optimizer=Adam(learning_rate=0.0001),loss='sparse_categorical_crossentropy',metrics=['accuracy'])"
      ],
      "execution_count": 87,
      "outputs": []
    },
    {
      "cell_type": "markdown",
      "metadata": {
        "id": "ZrzEbdgRbF3t"
      },
      "source": [
        " \r\n",
        " \r\n",
        "\r\n",
        "1.   sparse_categorical_crossentropy - given that our labels are in integer format.\r\n",
        "2.   binary_crossentropy - we have only two classes (the last layer would need to use sigmoid)\r\n",
        "\r\n"
      ]
    },
    {
      "cell_type": "code",
      "metadata": {
        "colab": {
          "base_uri": "https://localhost:8080/"
        },
        "id": "6KTez0gFa-3x",
        "outputId": "fc00c035-60ce-4dc7-f451-d624b16a201e"
      },
      "source": [
        "model.fit(x=scaled_train_samples,y=train_labels,validation_split=0.1,batch_size=10,epochs=30,shuffle=True,verbose=2)"
      ],
      "execution_count": 88,
      "outputs": [
        {
          "output_type": "stream",
          "text": [
            "Epoch 1/30\n",
            "189/189 - 1s - loss: 0.6873 - accuracy: 0.6471 - val_loss: 0.6712 - val_accuracy: 0.6524\n",
            "Epoch 2/30\n",
            "189/189 - 0s - loss: 0.6518 - accuracy: 0.7122 - val_loss: 0.6245 - val_accuracy: 0.8286\n",
            "Epoch 3/30\n",
            "189/189 - 0s - loss: 0.6033 - accuracy: 0.8344 - val_loss: 0.5782 - val_accuracy: 0.8476\n",
            "Epoch 4/30\n",
            "189/189 - 0s - loss: 0.5552 - accuracy: 0.8704 - val_loss: 0.5300 - val_accuracy: 0.8762\n",
            "Epoch 5/30\n",
            "189/189 - 0s - loss: 0.5064 - accuracy: 0.8905 - val_loss: 0.4770 - val_accuracy: 0.9000\n",
            "Epoch 6/30\n",
            "189/189 - 0s - loss: 0.4552 - accuracy: 0.9101 - val_loss: 0.4297 - val_accuracy: 0.9190\n",
            "Epoch 7/30\n",
            "189/189 - 0s - loss: 0.4099 - accuracy: 0.9153 - val_loss: 0.3854 - val_accuracy: 0.9190\n",
            "Epoch 8/30\n",
            "189/189 - 0s - loss: 0.3678 - accuracy: 0.9243 - val_loss: 0.3450 - val_accuracy: 0.9333\n",
            "Epoch 9/30\n",
            "189/189 - 0s - loss: 0.3300 - accuracy: 0.9286 - val_loss: 0.3097 - val_accuracy: 0.9571\n",
            "Epoch 10/30\n",
            "189/189 - 0s - loss: 0.2969 - accuracy: 0.9376 - val_loss: 0.2782 - val_accuracy: 0.9571\n",
            "Epoch 11/30\n",
            "189/189 - 0s - loss: 0.2682 - accuracy: 0.9429 - val_loss: 0.2515 - val_accuracy: 0.9571\n",
            "Epoch 12/30\n",
            "189/189 - 0s - loss: 0.2437 - accuracy: 0.9481 - val_loss: 0.2288 - val_accuracy: 0.9571\n",
            "Epoch 13/30\n",
            "189/189 - 0s - loss: 0.2227 - accuracy: 0.9556 - val_loss: 0.2094 - val_accuracy: 0.9762\n",
            "Epoch 14/30\n",
            "189/189 - 0s - loss: 0.2048 - accuracy: 0.9587 - val_loss: 0.1929 - val_accuracy: 0.9762\n",
            "Epoch 15/30\n",
            "189/189 - 0s - loss: 0.1897 - accuracy: 0.9630 - val_loss: 0.1786 - val_accuracy: 0.9810\n",
            "Epoch 16/30\n",
            "189/189 - 0s - loss: 0.1764 - accuracy: 0.9646 - val_loss: 0.1666 - val_accuracy: 0.9810\n",
            "Epoch 17/30\n",
            "189/189 - 0s - loss: 0.1650 - accuracy: 0.9693 - val_loss: 0.1558 - val_accuracy: 0.9810\n",
            "Epoch 18/30\n",
            "189/189 - 0s - loss: 0.1553 - accuracy: 0.9677 - val_loss: 0.1465 - val_accuracy: 0.9810\n",
            "Epoch 19/30\n",
            "189/189 - 0s - loss: 0.1465 - accuracy: 0.9725 - val_loss: 0.1383 - val_accuracy: 0.9810\n",
            "Epoch 20/30\n",
            "189/189 - 0s - loss: 0.1389 - accuracy: 0.9730 - val_loss: 0.1316 - val_accuracy: 0.9952\n",
            "Epoch 21/30\n",
            "189/189 - 0s - loss: 0.1320 - accuracy: 0.9767 - val_loss: 0.1246 - val_accuracy: 0.9952\n",
            "Epoch 22/30\n",
            "189/189 - 0s - loss: 0.1259 - accuracy: 0.9767 - val_loss: 0.1189 - val_accuracy: 0.9952\n",
            "Epoch 23/30\n",
            "189/189 - 0s - loss: 0.1206 - accuracy: 0.9799 - val_loss: 0.1138 - val_accuracy: 0.9952\n",
            "Epoch 24/30\n",
            "189/189 - 0s - loss: 0.1154 - accuracy: 0.9767 - val_loss: 0.1095 - val_accuracy: 1.0000\n",
            "Epoch 25/30\n",
            "189/189 - 0s - loss: 0.1109 - accuracy: 0.9847 - val_loss: 0.1045 - val_accuracy: 0.9952\n",
            "Epoch 26/30\n",
            "189/189 - 0s - loss: 0.1070 - accuracy: 0.9820 - val_loss: 0.1005 - val_accuracy: 0.9952\n",
            "Epoch 27/30\n",
            "189/189 - 0s - loss: 0.1029 - accuracy: 0.9836 - val_loss: 0.0968 - val_accuracy: 0.9952\n",
            "Epoch 28/30\n",
            "189/189 - 0s - loss: 0.0996 - accuracy: 0.9847 - val_loss: 0.0934 - val_accuracy: 0.9952\n",
            "Epoch 29/30\n",
            "189/189 - 0s - loss: 0.0966 - accuracy: 0.9804 - val_loss: 0.0904 - val_accuracy: 1.0000\n",
            "Epoch 30/30\n",
            "189/189 - 0s - loss: 0.0930 - accuracy: 0.9857 - val_loss: 0.0873 - val_accuracy: 1.0000\n"
          ],
          "name": "stdout"
        },
        {
          "output_type": "execute_result",
          "data": {
            "text/plain": [
              "<tensorflow.python.keras.callbacks.History at 0x7ffa9c623588>"
            ]
          },
          "metadata": {
            "tags": []
          },
          "execution_count": 88
        }
      ]
    },
    {
      "cell_type": "markdown",
      "metadata": {
        "id": "Qvn7N3jMgzne"
      },
      "source": [
        "**Inference from Above model**"
      ]
    },
    {
      "cell_type": "markdown",
      "metadata": {
        "id": "oO6wHeplm6DV"
      },
      "source": [
        "**Creating The Test Set**"
      ]
    },
    {
      "cell_type": "code",
      "metadata": {
        "id": "S3IBvMxkdDNe"
      },
      "source": [
        "test_samples=[]\r\n",
        "test_lables=[]\r\n",
        "for i in range(10):\r\n",
        "  random_younger=randint(13,64)\r\n",
        "  test_samples.append(random_younger)\r\n",
        "  test_lables.append(1)\r\n",
        "\r\n",
        "  random_older=randint(65,100)\r\n",
        "  test_samples.append(random_older)\r\n",
        "  test_lables.append(0)\r\n",
        "\r\n",
        "for i in range(200):\r\n",
        "  random_younger=randint(13,64)\r\n",
        "  test_samples.append(random_younger)\r\n",
        "  test_lables.append(1)\r\n",
        "\r\n",
        "  random_older=randint(65,100)\r\n",
        "  test_samples.append(random_older)\r\n",
        "  test_lables.append(0)\r\n",
        "\r\n",
        "test_labels=np.array(test_lables)\r\n",
        "test_samples=np.array(test_samples)\r\n",
        "\r\n",
        "test_labels,test_samples=shuffle(test_labels,test_samples)\r\n",
        "scaled_test_samples=scaler.fit_transform(test_samples.reshape(-1,1))"
      ],
      "execution_count": 89,
      "outputs": []
    },
    {
      "cell_type": "markdown",
      "metadata": {
        "id": "UB1NK5_vpGaw"
      },
      "source": [
        "**Prediction**\r\n",
        "Evaluating The Test Set\r\n"
      ]
    },
    {
      "cell_type": "code",
      "metadata": {
        "colab": {
          "base_uri": "https://localhost:8080/"
        },
        "id": "rXb_q_vUpB4u",
        "outputId": "5d253eff-0d1f-4646-eed0-f5e5de79ca37"
      },
      "source": [
        "predictions = model.predict(\r\n",
        "      x=scaled_test_samples\r\n",
        "    , batch_size=10\r\n",
        "    , verbose=2\r\n",
        ")"
      ],
      "execution_count": 90,
      "outputs": [
        {
          "output_type": "stream",
          "text": [
            "42/42 - 0s\n"
          ],
          "name": "stdout"
        }
      ]
    },
    {
      "cell_type": "code",
      "metadata": {
        "colab": {
          "base_uri": "https://localhost:8080/"
        },
        "id": "jGxNm8HwdDvl",
        "outputId": "ca97cb9a-faed-41ed-f628-8d6b9c964ff7"
      },
      "source": [
        "predictions"
      ],
      "execution_count": 91,
      "outputs": [
        {
          "output_type": "execute_result",
          "data": {
            "text/plain": [
              "array([[0.9966055 , 0.00339454],\n",
              "       [0.99106205, 0.0089379 ],\n",
              "       [0.63410336, 0.36589658],\n",
              "       [0.00258397, 0.997416  ],\n",
              "       [0.00275196, 0.997248  ],\n",
              "       [0.00585459, 0.9941454 ],\n",
              "       [0.00256722, 0.99743277],\n",
              "       [0.08108059, 0.91891944],\n",
              "       [0.28111312, 0.7188869 ],\n",
              "       [0.94732076, 0.05267922],\n",
              "       [0.05451981, 0.9454802 ],\n",
              "       [0.00255479, 0.9974452 ],\n",
              "       [0.00289227, 0.9971077 ],\n",
              "       [0.9902429 , 0.00975707],\n",
              "       [0.00258397, 0.997416  ],\n",
              "       [0.9951702 , 0.00482979],\n",
              "       [0.9966055 , 0.00339454],\n",
              "       [0.95697945, 0.04302057],\n",
              "       [0.14311017, 0.85688984],\n",
              "       [0.00585459, 0.9941454 ],\n",
              "       [0.0984055 , 0.90159446],\n",
              "       [0.94732076, 0.05267922],\n",
              "       [0.63410336, 0.36589658],\n",
              "       [0.72616166, 0.2738383 ],\n",
              "       [0.9951702 , 0.00482979],\n",
              "       [0.9947255 , 0.00527446],\n",
              "       [0.00272922, 0.99727076],\n",
              "       [0.99106205, 0.0089379 ],\n",
              "       [0.00314043, 0.99685955],\n",
              "       [0.00585459, 0.9941454 ],\n",
              "       [0.00255568, 0.9974443 ],\n",
              "       [0.00585459, 0.9941454 ],\n",
              "       [0.00258168, 0.9974183 ],\n",
              "       [0.9215824 , 0.07841764],\n",
              "       [0.63410336, 0.36589658],\n",
              "       [0.95697945, 0.04302057],\n",
              "       [0.00259668, 0.9974033 ],\n",
              "       [0.00277494, 0.99722505],\n",
              "       [0.00272922, 0.99727076],\n",
              "       [0.17121963, 0.82878035],\n",
              "       [0.37435627, 0.62564373],\n",
              "       [0.00275196, 0.997248  ],\n",
              "       [0.20353904, 0.796461  ],\n",
              "       [0.17121963, 0.82878035],\n",
              "       [0.06658059, 0.93341947],\n",
              "       [0.83386844, 0.16613157],\n",
              "       [0.9959507 , 0.00404932],\n",
              "       [0.00585459, 0.9941454 ],\n",
              "       [0.68190664, 0.31809342],\n",
              "       [0.01040898, 0.98959106],\n",
              "       [0.99689215, 0.00310787],\n",
              "       [0.9768008 , 0.02319924],\n",
              "       [0.96493274, 0.03506728],\n",
              "       [0.06658059, 0.93341947],\n",
              "       [0.08108059, 0.91891944],\n",
              "       [0.00314043, 0.99685955],\n",
              "       [0.42534095, 0.57465905],\n",
              "       [0.00258397, 0.997416  ],\n",
              "       [0.11895312, 0.8810469 ],\n",
              "       [0.9951702 , 0.00482979],\n",
              "       [0.9959507 , 0.00404932],\n",
              "       [0.9931323 , 0.00686771],\n",
              "       [0.03631608, 0.9636839 ],\n",
              "       [0.99181306, 0.00818693],\n",
              "       [0.02403592, 0.975964  ],\n",
              "       [0.8612824 , 0.13871762],\n",
              "       [0.9215824 , 0.07841764],\n",
              "       [0.9951702 , 0.00482979],\n",
              "       [0.9902429 , 0.00975707],\n",
              "       [0.72616166, 0.2738383 ],\n",
              "       [0.9955776 , 0.00442245],\n",
              "       [0.9925014 , 0.00749858],\n",
              "       [0.00258397, 0.997416  ],\n",
              "       [0.58350384, 0.4164961 ],\n",
              "       [0.00843153, 0.9915685 ],\n",
              "       [0.00267414, 0.9973259 ],\n",
              "       [0.68190664, 0.31809342],\n",
              "       [0.63410336, 0.36589658],\n",
              "       [0.00255479, 0.9974452 ],\n",
              "       [0.17121963, 0.82878035],\n",
              "       [0.9356394 , 0.06436055],\n",
              "       [0.01584001, 0.98416   ],\n",
              "       [0.9951702 , 0.00482979],\n",
              "       [0.95697945, 0.04302057],\n",
              "       [0.3260159 , 0.6739841 ],\n",
              "       [0.5310818 , 0.46891817],\n",
              "       [0.03631608, 0.9636839 ],\n",
              "       [0.00258397, 0.997416  ],\n",
              "       [0.9955776 , 0.00442245],\n",
              "       [0.9047674 , 0.09523264],\n",
              "       [0.8022804 , 0.19771956],\n",
              "       [0.76636916, 0.23363082],\n",
              "       [0.00585459, 0.9941454 ],\n",
              "       [0.9843338 , 0.01566615],\n",
              "       [0.00696855, 0.9930314 ],\n",
              "       [0.00696855, 0.9930314 ],\n",
              "       [0.9955776 , 0.00442245],\n",
              "       [0.9810905 , 0.01890952],\n",
              "       [0.9947255 , 0.00527446],\n",
              "       [0.02403592, 0.975964  ],\n",
              "       [0.00255568, 0.9974443 ],\n",
              "       [0.9937104 , 0.00628957],\n",
              "       [0.00256132, 0.99743867],\n",
              "       [0.9215824 , 0.07841764],\n",
              "       [0.9047674 , 0.09523264],\n",
              "       [0.4779644 , 0.5220356 ],\n",
              "       [0.9843338 , 0.01566615],\n",
              "       [0.63410336, 0.36589658],\n",
              "       [0.4779644 , 0.5220356 ],\n",
              "       [0.05451981, 0.9454802 ],\n",
              "       [0.88479775, 0.1152023 ],\n",
              "       [0.00491783, 0.99508214],\n",
              "       [0.63410336, 0.36589658],\n",
              "       [0.98662776, 0.0133722 ],\n",
              "       [0.00491783, 0.99508214],\n",
              "       [0.68190664, 0.31809342],\n",
              "       [0.9843338 , 0.01566615],\n",
              "       [0.00314043, 0.99685955],\n",
              "       [0.95697945, 0.04302057],\n",
              "       [0.3260159 , 0.6739841 ],\n",
              "       [0.9768008 , 0.02319924],\n",
              "       [0.00259668, 0.9974033 ],\n",
              "       [0.00491783, 0.99508214],\n",
              "       [0.24019076, 0.75980926],\n",
              "       [0.9955776 , 0.00442245],\n",
              "       [0.01040898, 0.98959106],\n",
              "       [0.05451981, 0.9454802 ],\n",
              "       [0.88479775, 0.1152023 ],\n",
              "       [0.02403592, 0.975964  ],\n",
              "       [0.00275196, 0.997248  ],\n",
              "       [0.58350384, 0.4164961 ],\n",
              "       [0.4779644 , 0.5220356 ],\n",
              "       [0.00255479, 0.9974452 ],\n",
              "       [0.01284419, 0.9871558 ],\n",
              "       [0.9951702 , 0.00482979],\n",
              "       [0.00256132, 0.99743867],\n",
              "       [0.95697945, 0.04302057],\n",
              "       [0.9768008 , 0.02319924],\n",
              "       [0.00256722, 0.99743277],\n",
              "       [0.4779644 , 0.5220356 ],\n",
              "       [0.17121963, 0.82878035],\n",
              "       [0.00585459, 0.9941454 ],\n",
              "       [0.11895312, 0.8810469 ],\n",
              "       [0.00413033, 0.9958697 ],\n",
              "       [0.00843153, 0.9915685 ],\n",
              "       [0.8612824 , 0.13871762],\n",
              "       [0.17121963, 0.82878035],\n",
              "       [0.00255568, 0.9974443 ],\n",
              "       [0.99689215, 0.00310787],\n",
              "       [0.00268431, 0.9973157 ],\n",
              "       [0.9925014 , 0.00749858],\n",
              "       [0.02403592, 0.975964  ],\n",
              "       [0.00270667, 0.9972933 ],\n",
              "       [0.98662776, 0.0133722 ],\n",
              "       [0.94732076, 0.05267922],\n",
              "       [0.04453956, 0.9554604 ],\n",
              "       [0.02403592, 0.975964  ],\n",
              "       [0.02956396, 0.97043604],\n",
              "       [0.14311017, 0.85688984],\n",
              "       [0.9962924 , 0.00370756],\n",
              "       [0.9902429 , 0.00975707],\n",
              "       [0.97145957, 0.02854044],\n",
              "       [0.99181306, 0.00818693],\n",
              "       [0.9810905 , 0.01890952],\n",
              "       [0.20353904, 0.796461  ],\n",
              "       [0.9931323 , 0.00686771],\n",
              "       [0.01584001, 0.98416   ],\n",
              "       [0.97145957, 0.02854044],\n",
              "       [0.9892462 , 0.01075384],\n",
              "       [0.9951702 , 0.00482979],\n",
              "       [0.06658059, 0.93341947],\n",
              "       [0.58350384, 0.4164961 ],\n",
              "       [0.4779644 , 0.5220356 ],\n",
              "       [0.76636916, 0.23363082],\n",
              "       [0.37435627, 0.62564373],\n",
              "       [0.00264014, 0.9973598 ],\n",
              "       [0.94732076, 0.05267922],\n",
              "       [0.95697945, 0.04302057],\n",
              "       [0.58350384, 0.41649607],\n",
              "       [0.00585459, 0.9941454 ],\n",
              "       [0.42534095, 0.57465905],\n",
              "       [0.9215824 , 0.07841764],\n",
              "       [0.00259668, 0.9974033 ],\n",
              "       [0.97145957, 0.02854044],\n",
              "       [0.98662776, 0.0133722 ],\n",
              "       [0.02403592, 0.975964  ],\n",
              "       [0.00258397, 0.997416  ],\n",
              "       [0.5310818 , 0.46891817],\n",
              "       [0.9959507 , 0.00404932],\n",
              "       [0.28111312, 0.7188869 ],\n",
              "       [0.9047674 , 0.09523264],\n",
              "       [0.9951702 , 0.00482979],\n",
              "       [0.9810905 , 0.01890952],\n",
              "       [0.00258397, 0.997416  ],\n",
              "       [0.99106205, 0.0089379 ],\n",
              "       [0.9947255 , 0.00527446],\n",
              "       [0.94732076, 0.05267922],\n",
              "       [0.72616166, 0.2738383 ],\n",
              "       [0.00413033, 0.9958697 ],\n",
              "       [0.9843338 , 0.01566615],\n",
              "       [0.20353904, 0.796461  ],\n",
              "       [0.9966055 , 0.00339454],\n",
              "       [0.9892462 , 0.01075384],\n",
              "       [0.9947255 , 0.00527446],\n",
              "       [0.9902429 , 0.00975707],\n",
              "       [0.9768008 , 0.02319924],\n",
              "       [0.00267414, 0.9973259 ],\n",
              "       [0.68190664, 0.31809342],\n",
              "       [0.98662776, 0.0133722 ],\n",
              "       [0.00413033, 0.9958697 ],\n",
              "       [0.58350384, 0.4164961 ],\n",
              "       [0.72616166, 0.2738383 ],\n",
              "       [0.9962924 , 0.00370756],\n",
              "       [0.00258168, 0.9974183 ],\n",
              "       [0.9951702 , 0.00482979],\n",
              "       [0.9843338 , 0.01566615],\n",
              "       [0.9925014 , 0.00749858],\n",
              "       [0.37435627, 0.62564373],\n",
              "       [0.98662776, 0.0133722 ],\n",
              "       [0.00256722, 0.99743277],\n",
              "       [0.99106205, 0.0089379 ],\n",
              "       [0.00314043, 0.99685955],\n",
              "       [0.00272922, 0.99727076],\n",
              "       [0.9955776 , 0.00442245],\n",
              "       [0.88479775, 0.1152023 ],\n",
              "       [0.06658059, 0.93341947],\n",
              "       [0.9966055 , 0.00339454],\n",
              "       [0.98810005, 0.01189994],\n",
              "       [0.98662776, 0.0133722 ],\n",
              "       [0.00264014, 0.9973598 ],\n",
              "       [0.24019076, 0.75980926],\n",
              "       [0.02403592, 0.975964  ],\n",
              "       [0.14311017, 0.85688984],\n",
              "       [0.00585459, 0.9941454 ],\n",
              "       [0.00257262, 0.9974274 ],\n",
              "       [0.02956396, 0.97043604],\n",
              "       [0.58350384, 0.4164961 ],\n",
              "       [0.14311017, 0.85688984],\n",
              "       [0.88479775, 0.1152023 ],\n",
              "       [0.9931323 , 0.00686771],\n",
              "       [0.17121963, 0.82878035],\n",
              "       [0.00267414, 0.9973259 ],\n",
              "       [0.00264014, 0.9973598 ],\n",
              "       [0.00257829, 0.99742174],\n",
              "       [0.00266213, 0.9973379 ],\n",
              "       [0.9047674 , 0.09523264],\n",
              "       [0.97145957, 0.02854044],\n",
              "       [0.00275196, 0.997248  ],\n",
              "       [0.00259668, 0.9974033 ],\n",
              "       [0.58350384, 0.41649607],\n",
              "       [0.00272922, 0.99727076],\n",
              "       [0.00314043, 0.99685955],\n",
              "       [0.00258168, 0.9974183 ],\n",
              "       [0.11895312, 0.8810469 ],\n",
              "       [0.95697945, 0.04302057],\n",
              "       [0.9902429 , 0.00975707],\n",
              "       [0.63410336, 0.36589658],\n",
              "       [0.83386844, 0.16613157],\n",
              "       [0.76636916, 0.23363082],\n",
              "       [0.00256132, 0.99743867],\n",
              "       [0.14311017, 0.85688984],\n",
              "       [0.00267414, 0.9973259 ],\n",
              "       [0.9959507 , 0.00404932],\n",
              "       [0.99106205, 0.0089379 ],\n",
              "       [0.94732076, 0.05267922],\n",
              "       [0.99689215, 0.00310787],\n",
              "       [0.02403592, 0.975964  ],\n",
              "       [0.88479775, 0.1152023 ],\n",
              "       [0.01952076, 0.98047924],\n",
              "       [0.17121963, 0.82878035],\n",
              "       [0.03631608, 0.9636839 ],\n",
              "       [0.9966055 , 0.00339454],\n",
              "       [0.00261832, 0.9973816 ],\n",
              "       [0.9215824 , 0.07841764],\n",
              "       [0.99689215, 0.00310787],\n",
              "       [0.00259144, 0.99740857],\n",
              "       [0.04453956, 0.9554604 ],\n",
              "       [0.00258397, 0.997416  ],\n",
              "       [0.58350384, 0.41649607],\n",
              "       [0.00258397, 0.997416  ],\n",
              "       [0.00413033, 0.9958697 ],\n",
              "       [0.94732076, 0.05267922],\n",
              "       [0.9843338 , 0.01566615],\n",
              "       [0.9955776 , 0.00442245],\n",
              "       [0.00257262, 0.9974274 ],\n",
              "       [0.8022804 , 0.19771956],\n",
              "       [0.9959507 , 0.00404932],\n",
              "       [0.9047674 , 0.09523264],\n",
              "       [0.00270667, 0.9972933 ],\n",
              "       [0.9947255 , 0.00527446],\n",
              "       [0.00270667, 0.9972933 ],\n",
              "       [0.9356394 , 0.06436055],\n",
              "       [0.00256696, 0.997433  ],\n",
              "       [0.68190664, 0.31809342],\n",
              "       [0.9931323 , 0.00686771],\n",
              "       [0.00258168, 0.9974183 ],\n",
              "       [0.9902429 , 0.00975707],\n",
              "       [0.08108059, 0.91891944],\n",
              "       [0.9937104 , 0.00628957],\n",
              "       [0.00272922, 0.99727076],\n",
              "       [0.9959507 , 0.00404932],\n",
              "       [0.99106205, 0.0089379 ],\n",
              "       [0.03631608, 0.9636839 ],\n",
              "       [0.00277494, 0.99722505],\n",
              "       [0.00258168, 0.9974183 ],\n",
              "       [0.0984055 , 0.90159446],\n",
              "       [0.58350384, 0.4164961 ],\n",
              "       [0.76636916, 0.23363082],\n",
              "       [0.00256722, 0.99743277],\n",
              "       [0.00696855, 0.9930314 ],\n",
              "       [0.99689215, 0.00310787],\n",
              "       [0.9768008 , 0.02319924],\n",
              "       [0.98662776, 0.0133722 ],\n",
              "       [0.99424016, 0.00575983],\n",
              "       [0.72616166, 0.2738383 ],\n",
              "       [0.58350384, 0.4164961 ],\n",
              "       [0.00270667, 0.9972933 ],\n",
              "       [0.00270667, 0.9972933 ],\n",
              "       [0.00256132, 0.99743867],\n",
              "       [0.76636916, 0.23363082],\n",
              "       [0.00270667, 0.9972933 ],\n",
              "       [0.00696855, 0.9930314 ],\n",
              "       [0.00258397, 0.997416  ],\n",
              "       [0.00413033, 0.9958697 ],\n",
              "       [0.00314043, 0.99685955],\n",
              "       [0.01952076, 0.98047924],\n",
              "       [0.9947255 , 0.00527446],\n",
              "       [0.94732076, 0.05267922],\n",
              "       [0.00272922, 0.99727076],\n",
              "       [0.83386844, 0.16613157],\n",
              "       [0.9937104 , 0.00628957],\n",
              "       [0.01284419, 0.9871558 ],\n",
              "       [0.00314043, 0.99685955],\n",
              "       [0.9768008 , 0.02319924],\n",
              "       [0.00256132, 0.99743867],\n",
              "       [0.06658059, 0.93341947],\n",
              "       [0.37435627, 0.62564373],\n",
              "       [0.88479775, 0.1152023 ],\n",
              "       [0.9892462 , 0.01075384],\n",
              "       [0.01040898, 0.98959106],\n",
              "       [0.00261832, 0.9973816 ],\n",
              "       [0.9902429 , 0.00975707],\n",
              "       [0.02403592, 0.975964  ],\n",
              "       [0.88479775, 0.1152023 ],\n",
              "       [0.9215824 , 0.07841764],\n",
              "       [0.00277494, 0.99722505],\n",
              "       [0.00268431, 0.9973157 ],\n",
              "       [0.9356394 , 0.06436055],\n",
              "       [0.00268431, 0.9973157 ],\n",
              "       [0.88479775, 0.1152023 ],\n",
              "       [0.9937104 , 0.00628957],\n",
              "       [0.00256722, 0.99743277],\n",
              "       [0.9962924 , 0.00370756],\n",
              "       [0.98810005, 0.01189994],\n",
              "       [0.9955776 , 0.00442245],\n",
              "       [0.9810905 , 0.01890952],\n",
              "       [0.00257829, 0.99742174],\n",
              "       [0.9902429 , 0.00975707],\n",
              "       [0.4779644 , 0.5220356 ],\n",
              "       [0.83386844, 0.16613157],\n",
              "       [0.8022804 , 0.19771956],\n",
              "       [0.4779644 , 0.5220356 ],\n",
              "       [0.9951702 , 0.00482979],\n",
              "       [0.68190664, 0.31809342],\n",
              "       [0.9356394 , 0.06436055],\n",
              "       [0.28111312, 0.7188869 ],\n",
              "       [0.00585459, 0.9941454 ],\n",
              "       [0.3260159 , 0.6739841 ],\n",
              "       [0.99424016, 0.00575983],\n",
              "       [0.00255292, 0.99744713],\n",
              "       [0.20353904, 0.796461  ],\n",
              "       [0.9768008 , 0.02319924],\n",
              "       [0.9931323 , 0.00686771],\n",
              "       [0.01040898, 0.98959106],\n",
              "       [0.9947255 , 0.00527446],\n",
              "       [0.20353904, 0.796461  ],\n",
              "       [0.9047674 , 0.09523264],\n",
              "       [0.02403592, 0.975964  ],\n",
              "       [0.00289227, 0.9971077 ],\n",
              "       [0.9955776 , 0.00442245],\n",
              "       [0.01952076, 0.98047924],\n",
              "       [0.9931323 , 0.00686771],\n",
              "       [0.99181306, 0.00818693],\n",
              "       [0.83386844, 0.16613157],\n",
              "       [0.9931323 , 0.00686771],\n",
              "       [0.9955776 , 0.00442245],\n",
              "       [0.99181306, 0.00818693],\n",
              "       [0.98810005, 0.01189994],\n",
              "       [0.00272922, 0.99727076],\n",
              "       [0.9843338 , 0.01566615],\n",
              "       [0.8612824 , 0.13871762],\n",
              "       [0.63410336, 0.36589658],\n",
              "       [0.04453956, 0.9554604 ],\n",
              "       [0.98810005, 0.01189994],\n",
              "       [0.8612824 , 0.13871762],\n",
              "       [0.00275196, 0.997248  ],\n",
              "       [0.9892462 , 0.01075384],\n",
              "       [0.00255292, 0.99744713],\n",
              "       [0.00257829, 0.99742174],\n",
              "       [0.9951702 , 0.00482979],\n",
              "       [0.00264014, 0.9973598 ],\n",
              "       [0.9215824 , 0.07841764],\n",
              "       [0.01584001, 0.98416   ],\n",
              "       [0.9843338 , 0.01566615],\n",
              "       [0.99424016, 0.00575983],\n",
              "       [0.24019076, 0.75980926],\n",
              "       [0.00257262, 0.9974274 ],\n",
              "       [0.8612824 , 0.13871762],\n",
              "       [0.20353904, 0.796461  ],\n",
              "       [0.95697945, 0.04302057],\n",
              "       [0.9768008 , 0.02319924],\n",
              "       [0.02403592, 0.975964  ],\n",
              "       [0.00257262, 0.9974274 ],\n",
              "       [0.00491783, 0.99508214],\n",
              "       [0.00259144, 0.99740857],\n",
              "       [0.9925014 , 0.00749858],\n",
              "       [0.01584001, 0.98416   ],\n",
              "       [0.01584001, 0.98416   ],\n",
              "       [0.4779644 , 0.5220356 ],\n",
              "       [0.00259668, 0.9974033 ]], dtype=float32)"
            ]
          },
          "metadata": {
            "tags": []
          },
          "execution_count": 91
        }
      ]
    },
    {
      "cell_type": "code",
      "metadata": {
        "id": "JdeA9ySvdD4M"
      },
      "source": [
        "rounded_prediction=np.argmax(predictions,axis=1)"
      ],
      "execution_count": 92,
      "outputs": []
    },
    {
      "cell_type": "code",
      "metadata": {
        "colab": {
          "base_uri": "https://localhost:8080/"
        },
        "id": "J0U-gqjldEEw",
        "outputId": "e5767562-5e28-4ab3-dd6d-5824bf6c3bc2"
      },
      "source": [
        "rounded_prediction"
      ],
      "execution_count": 93,
      "outputs": [
        {
          "output_type": "execute_result",
          "data": {
            "text/plain": [
              "array([0, 0, 0, 1, 1, 1, 1, 1, 1, 0, 1, 1, 1, 0, 1, 0, 0, 0, 1, 1, 1, 0,\n",
              "       0, 0, 0, 0, 1, 0, 1, 1, 1, 1, 1, 0, 0, 0, 1, 1, 1, 1, 1, 1, 1, 1,\n",
              "       1, 0, 0, 1, 0, 1, 0, 0, 0, 1, 1, 1, 1, 1, 1, 0, 0, 0, 1, 0, 1, 0,\n",
              "       0, 0, 0, 0, 0, 0, 1, 0, 1, 1, 0, 0, 1, 1, 0, 1, 0, 0, 1, 0, 1, 1,\n",
              "       0, 0, 0, 0, 1, 0, 1, 1, 0, 0, 0, 1, 1, 0, 1, 0, 0, 1, 0, 0, 1, 1,\n",
              "       0, 1, 0, 0, 1, 0, 0, 1, 0, 1, 0, 1, 1, 1, 0, 1, 1, 0, 1, 1, 0, 1,\n",
              "       1, 1, 0, 1, 0, 0, 1, 1, 1, 1, 1, 1, 1, 0, 1, 1, 0, 1, 0, 1, 1, 0,\n",
              "       0, 1, 1, 1, 1, 0, 0, 0, 0, 0, 1, 0, 1, 0, 0, 0, 1, 0, 1, 0, 1, 1,\n",
              "       0, 0, 0, 1, 1, 0, 1, 0, 0, 1, 1, 0, 0, 1, 0, 0, 0, 1, 0, 0, 0, 0,\n",
              "       1, 0, 1, 0, 0, 0, 0, 0, 1, 0, 0, 1, 0, 0, 0, 1, 0, 0, 0, 1, 0, 1,\n",
              "       0, 1, 1, 0, 0, 1, 0, 0, 0, 1, 1, 1, 1, 1, 1, 1, 0, 1, 0, 0, 1, 1,\n",
              "       1, 1, 1, 0, 0, 1, 1, 0, 1, 1, 1, 1, 0, 0, 0, 0, 0, 1, 1, 1, 0, 0,\n",
              "       0, 0, 1, 0, 1, 1, 1, 0, 1, 0, 0, 1, 1, 1, 0, 1, 1, 0, 0, 0, 1, 0,\n",
              "       0, 0, 1, 0, 1, 0, 1, 0, 0, 1, 0, 1, 0, 1, 0, 0, 1, 1, 1, 1, 0, 0,\n",
              "       1, 1, 0, 0, 0, 0, 0, 0, 1, 1, 1, 0, 1, 1, 1, 1, 1, 1, 0, 0, 1, 0,\n",
              "       0, 1, 1, 0, 1, 1, 1, 0, 0, 1, 1, 0, 1, 0, 0, 1, 1, 0, 1, 0, 0, 1,\n",
              "       0, 0, 0, 0, 1, 0, 1, 0, 0, 1, 0, 0, 0, 1, 1, 1, 0, 1, 1, 0, 0, 1,\n",
              "       0, 1, 0, 1, 1, 0, 1, 0, 0, 0, 0, 0, 0, 0, 1, 0, 0, 0, 1, 0, 0, 1,\n",
              "       0, 1, 1, 0, 1, 0, 1, 0, 0, 1, 1, 0, 1, 0, 0, 1, 1, 1, 1, 0, 1, 1,\n",
              "       1, 1])"
            ]
          },
          "metadata": {
            "tags": []
          },
          "execution_count": 93
        }
      ]
    },
    {
      "cell_type": "markdown",
      "metadata": {
        "id": "W36fmN3etO-2"
      },
      "source": [
        "**Create A Confusion Matrix For Neural Network Predictions**"
      ]
    },
    {
      "cell_type": "markdown",
      "metadata": {
        "id": "K80o7vZivupL"
      },
      "source": [
        ""
      ]
    },
    {
      "cell_type": "code",
      "metadata": {
        "colab": {
          "base_uri": "https://localhost:8080/"
        },
        "id": "s8RQKxSItNX_",
        "outputId": "4cbd5939-e77d-4b61-8be4-706e5ec21e7f"
      },
      "source": [
        "%matplotlib inline\r\n",
        "from sklearn.metrics import  confusion_matrix\r\n",
        "import matplotlib.pyplot as plt\r\n",
        "import itertools\r\n",
        "\r\n",
        "cm=confusion_matrix(y_true=test_lables,y_pred=rounded_prediction)\r\n",
        "cm"
      ],
      "execution_count": 94,
      "outputs": [
        {
          "output_type": "execute_result",
          "data": {
            "text/plain": [
              "array([[112,  98],\n",
              "       [100, 110]])"
            ]
          },
          "metadata": {
            "tags": []
          },
          "execution_count": 94
        }
      ]
    },
    {
      "cell_type": "code",
      "metadata": {
        "id": "8XUxGPmyvtHL"
      },
      "source": [
        "def plot_confusion_matrix(cm, classes,\r\n",
        "                        normalize=False,\r\n",
        "                        title='Confusion matrix',\r\n",
        "                        cmap=plt.cm.Blues):\r\n",
        "    \"\"\"\r\n",
        "    This function prints and plots the confusion matrix.\r\n",
        "    Normalization can be applied by setting `normalize=True`.\r\n",
        "    \"\"\"\r\n",
        "    plt.imshow(cm, interpolation='nearest', cmap=cmap)\r\n",
        "    plt.title(title)\r\n",
        "    plt.colorbar()\r\n",
        "    tick_marks = np.arange(len(classes))\r\n",
        "    plt.xticks(tick_marks, classes, rotation=45)\r\n",
        "    plt.yticks(tick_marks, classes)\r\n",
        "\r\n",
        "    if normalize:\r\n",
        "        cm = cm.astype('float') / cm.sum(axis=1)[:, np.newaxis]\r\n",
        "        print(\"Normalized confusion matrix\")\r\n",
        "    else:\r\n",
        "        print('Confusion matrix, without normalization')\r\n",
        "\r\n",
        "    print(cm)\r\n",
        "\r\n",
        "    thresh = cm.max() / 2.\r\n",
        "    for i, j in itertools.product(range(cm.shape[0]), range(cm.shape[1])):\r\n",
        "        plt.text(j, i, cm[i, j],\r\n",
        "            horizontalalignment=\"center\",\r\n",
        "            color=\"white\" if cm[i, j] > thresh else \"black\")\r\n",
        "\r\n",
        "    plt.tight_layout()\r\n",
        "    plt.ylabel('True label')\r\n",
        "    plt.xlabel('Predicted label')"
      ],
      "execution_count": 95,
      "outputs": []
    },
    {
      "cell_type": "code",
      "metadata": {
        "colab": {
          "base_uri": "https://localhost:8080/",
          "height": 364
        },
        "id": "RkWAapQkdEL-",
        "outputId": "bcaa9044-682d-4f16-a469-f3da06234c10"
      },
      "source": [
        "plot_confusion_matrix(cm,classes=['no_side_effects','Side_effects'],title='confusion matrix')"
      ],
      "execution_count": 96,
      "outputs": [
        {
          "output_type": "stream",
          "text": [
            "Confusion matrix, without normalization\n",
            "[[112  98]\n",
            " [100 110]]\n"
          ],
          "name": "stdout"
        },
        {
          "output_type": "display_data",
          "data": {
            "image/png": "[encoded data removed]",
            "text/plain": [
              "<Figure size 432x288 with 2 Axes>"
            ]
          },
          "metadata": {
            "tags": [],
            "needs_background": "light"
          }
        }
      ]
    },
    {
      "cell_type": "markdown",
      "metadata": {
        "id": "Qezf9aMJ5MoL"
      },
      "source": [
        "### **Save the Model**"
      ]
    },
    {
      "cell_type": "markdown",
      "metadata": {
        "id": "tWbn89Ln7d9L"
      },
      "source": [
        "Saving And Loading The Model In Its Entirety"
      ]
    },
    {
      "cell_type": "code",
      "metadata": {
        "id": "FSL4fmrExRs5"
      },
      "source": [
        "model.save('models/medical_trial_model.h5')"
      ],
      "execution_count": 97,
      "outputs": []
    },
    {
      "cell_type": "code",
      "metadata": {
        "id": "kmFE2viI67Jy"
      },
      "source": [
        "from tensorflow.keras.models import load_model\r\n",
        "new_model=load_model('models/medical_trial_model.h5')"
      ],
      "execution_count": 100,
      "outputs": []
    },
    {
      "cell_type": "code",
      "metadata": {
        "colab": {
          "base_uri": "https://localhost:8080/"
        },
        "id": "O4zhhgpb8Hgh",
        "outputId": "a4d9f630-ce8d-4d6b-cbc1-bbf15d3c0b63"
      },
      "source": [
        "new_model.summary()"
      ],
      "execution_count": 101,
      "outputs": [
        {
          "output_type": "stream",
          "text": [
            "Model: \"sequential_3\"\n",
            "_________________________________________________________________\n",
            "Layer (type)                 Output Shape              Param #   \n",
            "=================================================================\n",
            "dense_9 (Dense)              (None, 16)                32        \n",
            "_________________________________________________________________\n",
            "dense_10 (Dense)             (None, 32)                544       \n",
            "_________________________________________________________________\n",
            "dense_11 (Dense)             (None, 2)                 66        \n",
            "=================================================================\n",
            "Total params: 642\n",
            "Trainable params: 642\n",
            "Non-trainable params: 0\n",
            "_________________________________________________________________\n"
          ],
          "name": "stdout"
        }
      ]
    },
    {
      "cell_type": "markdown",
      "metadata": {
        "id": "rUeDqjEX8TT8"
      },
      "source": [
        "**Saving And Loading Only The Architecture Of The Model**"
      ]
    },
    {
      "cell_type": "code",
      "metadata": {
        "colab": {
          "base_uri": "https://localhost:8080/",
          "height": 124
        },
        "id": "pKO7jbuS8NoE",
        "outputId": "45661e0d-39b9-41c7-dda2-a44221b2cba5"
      },
      "source": [
        "json_string=model.to_json()\r\n",
        "json_string"
      ],
      "execution_count": 102,
      "outputs": [
        {
          "output_type": "execute_result",
          "data": {
            "application/vnd.google.colaboratory.intrinsic+json": {
              "type": "string"
            },
            "text/plain": [
              "'{\"class_name\": \"Sequential\", \"config\": {\"name\": \"sequential_3\", \"layers\": [{\"class_name\": \"InputLayer\", \"config\": {\"batch_input_shape\": [null, 1], \"dtype\": \"float32\", \"sparse\": false, \"ragged\": false, \"name\": \"dense_9_input\"}}, {\"class_name\": \"Dense\", \"config\": {\"name\": \"dense_9\", \"trainable\": true, \"batch_input_shape\": [null, 1], \"dtype\": \"float32\", \"units\": 16, \"activation\": \"relu\", \"use_bias\": true, \"kernel_initializer\": {\"class_name\": \"GlorotUniform\", \"config\": {\"seed\": null}}, \"bias_initializer\": {\"class_name\": \"Zeros\", \"config\": {}}, \"kernel_regularizer\": null, \"bias_regularizer\": null, \"activity_regularizer\": null, \"kernel_constraint\": null, \"bias_constraint\": null}}, {\"class_name\": \"Dense\", \"config\": {\"name\": \"dense_10\", \"trainable\": true, \"dtype\": \"float32\", \"units\": 32, \"activation\": \"relu\", \"use_bias\": true, \"kernel_initializer\": {\"class_name\": \"GlorotUniform\", \"config\": {\"seed\": null}}, \"bias_initializer\": {\"class_name\": \"Zeros\", \"config\": {}}, \"kernel_regularizer\": null, \"bias_regularizer\": null, \"activity_regularizer\": null, \"kernel_constraint\": null, \"bias_constraint\": null}}, {\"class_name\": \"Dense\", \"config\": {\"name\": \"dense_11\", \"trainable\": true, \"dtype\": \"float32\", \"units\": 2, \"activation\": \"softmax\", \"use_bias\": true, \"kernel_initializer\": {\"class_name\": \"GlorotUniform\", \"config\": {\"seed\": null}}, \"bias_initializer\": {\"class_name\": \"Zeros\", \"config\": {}}, \"kernel_regularizer\": null, \"bias_regularizer\": null, \"activity_regularizer\": null, \"kernel_constraint\": null, \"bias_constraint\": null}}]}, \"keras_version\": \"2.4.0\", \"backend\": \"tensorflow\"}'"
            ]
          },
          "metadata": {
            "tags": []
          },
          "execution_count": 102
        }
      ]
    },
    {
      "cell_type": "code",
      "metadata": {
        "id": "v-FMGMOm8f1h"
      },
      "source": [
        "from tensorflow.keras.models import model_from_json\r\n",
        "model_architecture=model_from_json(json_string)"
      ],
      "execution_count": 103,
      "outputs": []
    },
    {
      "cell_type": "code",
      "metadata": {
        "colab": {
          "base_uri": "https://localhost:8080/"
        },
        "id": "-GhPLoXx8zaB",
        "outputId": "07fae684-c985-4475-b89e-3a7f02bfb1e3"
      },
      "source": [
        "model_architecture.summary()"
      ],
      "execution_count": 104,
      "outputs": [
        {
          "output_type": "stream",
          "text": [
            "Model: \"sequential_3\"\n",
            "_________________________________________________________________\n",
            "Layer (type)                 Output Shape              Param #   \n",
            "=================================================================\n",
            "dense_9 (Dense)              (None, 16)                32        \n",
            "_________________________________________________________________\n",
            "dense_10 (Dense)             (None, 32)                544       \n",
            "_________________________________________________________________\n",
            "dense_11 (Dense)             (None, 2)                 66        \n",
            "=================================================================\n",
            "Total params: 642\n",
            "Trainable params: 642\n",
            "Non-trainable params: 0\n",
            "_________________________________________________________________\n"
          ],
          "name": "stdout"
        }
      ]
    },
    {
      "cell_type": "markdown",
      "metadata": {
        "id": "QPCGt3XA8799"
      },
      "source": [
        "**Saving And Loading The Weights Of The Model**"
      ]
    },
    {
      "cell_type": "code",
      "metadata": {
        "id": "LBbjjZhq82tI"
      },
      "source": [
        "model.save_weights('models/my_model_weights.h5')"
      ],
      "execution_count": 105,
      "outputs": []
    },
    {
      "cell_type": "code",
      "metadata": {
        "id": "QBJXo7Mq9vSQ"
      },
      "source": [
        "model2 = Sequential([\r\n",
        "    Dense(units=16, input_shape=(1,), activation='relu'),\r\n",
        "    Dense(units=32, activation='relu'),\r\n",
        "    Dense(units=2, activation='softmax')\r\n",
        "])\r\n",
        "\r\n",
        "model2.load_weights('models/my_model_weights.h5')"
      ],
      "execution_count": 106,
      "outputs": []
    }
  ]
}